{
 "cells": [
  {
   "cell_type": "markdown",
   "metadata": {},
   "source": [
    "<p style=\"text-align:center\">\n",
    "    <a href=\"https://skills.network/?utm_medium=Exinfluencer&utm_source=Exinfluencer&utm_content=000026UJ&utm_term=10006555&utm_id=NA-SkillsNetwork-Channel-SkillsNetworkCoursesIBMSkillsNetworkBD0231ENCoursera2789-2023-01-01\">\n",
    "    <img src=\"https://cf-courses-data.s3.us.cloud-object-storage.appdomain.cloud/assets/logos/SN_web_lightmode.png\" width=\"200\" alt=\"Skills Network Logo\">\n",
    "    </a>\n",
    "</p>\n"
   ]
  },
  {
   "cell_type": "markdown",
   "metadata": {},
   "source": [
    "## Final Project - Build an ML Pipeline for Airfoil noise prediction\n"
   ]
  },
  {
   "cell_type": "markdown",
   "metadata": {},
   "source": [
    "Estimated time needed: **90** minutes\n"
   ]
  },
  {
   "cell_type": "markdown",
   "metadata": {},
   "source": [
    "## Scenario\n"
   ]
  },
  {
   "cell_type": "markdown",
   "metadata": {},
   "source": [
    "You are a data engineer at an aeronautics consulting company. Your company prides itself in being able to efficiently design airfoils for use in planes and sports cars. Data scientists in your office need to work with different algorithms and data in different formats. While they are good at Machine Learning, they count on you to be able to do ETL jobs and build ML pipelines. In this project you will use the modified version of the NASA Airfoil Self Noise dataset. You will clean this dataset, by dropping the duplicate rows, and removing the rows with null values. You will create an ML pipe line to create a model that will predict the SoundLevel based on all the other columns. You will evaluate the model and towards the end you will persist the model.\n",
    "\n"
   ]
  },
  {
   "cell_type": "markdown",
   "metadata": {},
   "source": [
    "## Objectives\n",
    "\n",
    "In this 4 part assignment you will:\n",
    "\n",
    "- Part 1 Perform ETL activity\n",
    "  - Load a csv dataset\n",
    "  - Remove duplicates if any\n",
    "  - Drop rows with null values if any\n",
    "  - Make transformations\n",
    "  - Store the cleaned data in parquet format\n",
    "- Part 2 Create a  Machine Learning Pipeline\n",
    "  - Create a machine learning pipeline for prediction\n",
    "- Part 3 Evaluate the Model\n",
    "  - Evaluate the model using relevant metrics\n",
    "- Part 4 Persist the Model \n",
    "  - Save the model for future production use\n",
    "  - Load and verify the stored model\n"
   ]
  },
  {
   "cell_type": "markdown",
   "metadata": {},
   "source": [
    "## Datasets\n",
    "\n",
    "In this lab you will be using dataset(s):\n",
    "\n",
    " - The original dataset can be found here NASA airfoil self noise dataset. https://archive.ics.uci.edu/dataset/291/airfoil+self+noise\n",
    " \n",
    " - This dataset is licensed under a Creative Commons Attribution 4.0 International (CC BY 4.0) license.\n"
   ]
  },
  {
   "cell_type": "markdown",
   "metadata": {},
   "source": [
    "Diagram of an airfoil. - For informational purpose\n"
   ]
  },
  {
   "cell_type": "markdown",
   "metadata": {},
   "source": [
    "![Airfoil with flow](https://cf-courses-data.s3.us.cloud-object-storage.appdomain.cloud/IBMSkillsNetwork-BD0231EN-Coursera/images/Airfoil_with_flow.png)\n"
   ]
  },
  {
   "cell_type": "markdown",
   "metadata": {},
   "source": [
    "Diagram showing the Angle of attack. - For informational purpose\n"
   ]
  },
  {
   "cell_type": "markdown",
   "metadata": {},
   "source": [
    "![Airfoil angle of attack](https://cf-courses-data.s3.us.cloud-object-storage.appdomain.cloud/IBMSkillsNetwork-BD0231EN-Coursera/images/Airfoil_angle_of_attack.jpg)\n"
   ]
  },
  {
   "cell_type": "markdown",
   "metadata": {},
   "source": [
    "## Before you Start\n"
   ]
  },
  {
   "cell_type": "markdown",
   "metadata": {},
   "source": [
    "Before you start attempting this project it is highly recommended that you finish the practice project.\n"
   ]
  },
  {
   "cell_type": "markdown",
   "metadata": {},
   "source": [
    "## Setup\n"
   ]
  },
  {
   "cell_type": "markdown",
   "metadata": {},
   "source": [
    "For this lab, we will be using the following libraries:\n",
    "\n",
    "*   [`PySpark`](https://spark.apache.org/docs/latest/api/python/index.html?utm_medium=Exinfluencer&utm_source=Exinfluencer&utm_content=000026UJ&utm_term=10006555&utm_id=NA-SkillsNetwork-Channel-SkillsNetworkCoursesIBMSkillsNetworkBD0231ENCoursera2789-2023-01-01) for connecting to the Spark Cluster\n"
   ]
  },
  {
   "cell_type": "markdown",
   "metadata": {},
   "source": [
    "### Installing Required Libraries\n",
    "\n",
    "Spark Cluster is pre-installed in the Skills Network Labs environment. However, you need libraries like pyspark and findspark to\n",
    " connect to this cluster.\n"
   ]
  },
  {
   "cell_type": "markdown",
   "metadata": {},
   "source": [
    "The following required libraries are __not__ pre-installed in the Skills Network Labs environment. __You will need to run the following cell__ to install them:\n"
   ]
  },
  {
   "cell_type": "code",
   "execution_count": 1,
   "metadata": {
    "tags": []
   },
   "outputs": [],
   "source": [
    "!pip install pyspark==3.1.2 -q\n",
    "!pip install findspark -q"
   ]
  },
  {
   "cell_type": "markdown",
   "metadata": {},
   "source": [
    "### Importing Required Libraries\n",
    "\n",
    "_We recommend you import all required libraries in one place (here):_\n"
   ]
  },
  {
   "cell_type": "code",
   "execution_count": 2,
   "metadata": {
    "tags": []
   },
   "outputs": [],
   "source": [
    "# You can also use this section to suppress warnings generated by your code:\n",
    "def warn(*args, **kwargs):\n",
    "    pass\n",
    "import warnings\n",
    "warnings.warn = warn\n",
    "warnings.filterwarnings('ignore')\n",
    "\n",
    "# FindSpark simplifies the process of using Apache Spark with Python\n",
    "\n",
    "import findspark\n",
    "findspark.init()"
   ]
  },
  {
   "cell_type": "markdown",
   "metadata": {},
   "source": [
    "## Part 1 - Perform ETL activity\n"
   ]
  },
  {
   "cell_type": "markdown",
   "metadata": {},
   "source": [
    "### Task 1 - Import required libraries\n"
   ]
  },
  {
   "cell_type": "code",
   "execution_count": 3,
   "metadata": {
    "tags": []
   },
   "outputs": [],
   "source": [
    "#your code goes here\n",
    "\n",
    "from pyspark.sql import SparkSession\n",
    "from pyspark.ml import Pipeline\n",
    "from pyspark.ml.pipeline import PipelineModel\n",
    "from pyspark.ml.feature import VectorAssembler\n",
    "from pyspark.ml.regression import LinearRegression\n",
    "from pyspark.ml.feature import StringIndexer\n",
    "from pyspark.ml.feature import StandardScaler"
   ]
  },
  {
   "cell_type": "markdown",
   "metadata": {},
   "source": [
    "### Task 2 - Create a spark session\n"
   ]
  },
  {
   "cell_type": "code",
   "execution_count": 4,
   "metadata": {
    "tags": []
   },
   "outputs": [
    {
     "name": "stderr",
     "output_type": "stream",
     "text": [
      "24/02/24 10:46:28 WARN util.NativeCodeLoader: Unable to load native-hadoop library for your platform... using builtin-java classes where applicable\n",
      "Setting default log level to \"WARN\".\n",
      "To adjust logging level use sc.setLogLevel(newLevel). For SparkR, use setLogLevel(newLevel).\n",
      "24/02/24 10:46:31 WARN util.Utils: Service 'SparkUI' could not bind on port 4040. Attempting port 4041.\n",
      "24/02/24 10:46:31 WARN util.Utils: Service 'SparkUI' could not bind on port 4041. Attempting port 4042.\n",
      "24/02/24 10:46:31 WARN util.Utils: Service 'SparkUI' could not bind on port 4042. Attempting port 4043.\n"
     ]
    }
   ],
   "source": [
    "#Create a SparkSession\n",
    "\n",
    "spark = SparkSession.builder.appName(\"Final Project\").getOrCreate()"
   ]
  },
  {
   "cell_type": "markdown",
   "metadata": {},
   "source": [
    "### Task 3 - Load the csv file into a dataframe\n"
   ]
  },
  {
   "cell_type": "markdown",
   "metadata": {},
   "source": [
    "Download the data file.\n",
    "\n",
    "NOTE : Please ensure you use the dataset below and not the original dataset mentioned above.\n"
   ]
  },
  {
   "cell_type": "code",
   "execution_count": 5,
   "metadata": {
    "tags": []
   },
   "outputs": [
    {
     "name": "stdout",
     "output_type": "stream",
     "text": [
      "--2024-02-24 10:46:38--  https://cf-courses-data.s3.us.cloud-object-storage.appdomain.cloud/IBMSkillsNetwork-BD0231EN-Coursera/datasets/NASA_airfoil_noise_raw.csv\n",
      "Resolving cf-courses-data.s3.us.cloud-object-storage.appdomain.cloud (cf-courses-data.s3.us.cloud-object-storage.appdomain.cloud)... 169.63.118.104, 169.63.118.104\n",
      "Connecting to cf-courses-data.s3.us.cloud-object-storage.appdomain.cloud (cf-courses-data.s3.us.cloud-object-storage.appdomain.cloud)|169.63.118.104|:443... connected.\n",
      "HTTP request sent, awaiting response... 200 OK\n",
      "Length: 60682 (59K) [text/csv]\n",
      "Saving to: ‘NASA_airfoil_noise_raw.csv.2’\n",
      "\n",
      "NASA_airfoil_noise_ 100%[===================>]  59.26K  --.-KB/s    in 0.002s  \n",
      "\n",
      "2024-02-24 10:46:39 (27.8 MB/s) - ‘NASA_airfoil_noise_raw.csv.2’ saved [60682/60682]\n",
      "\n"
     ]
    }
   ],
   "source": [
    "!wget https://cf-courses-data.s3.us.cloud-object-storage.appdomain.cloud/IBMSkillsNetwork-BD0231EN-Coursera/datasets/NASA_airfoil_noise_raw.csv\n"
   ]
  },
  {
   "cell_type": "markdown",
   "metadata": {},
   "source": [
    "Load the dataset into the spark dataframe\n"
   ]
  },
  {
   "cell_type": "code",
   "execution_count": 6,
   "metadata": {
    "tags": []
   },
   "outputs": [
    {
     "name": "stderr",
     "output_type": "stream",
     "text": [
      "                                                                                \r"
     ]
    }
   ],
   "source": [
    "# Load the dataset that you have downloaded in the previous task\n",
    "\n",
    "df = spark.read.csv(\"NASA_airfoil_noise_raw.csv\", header=True, inferSchema=True)\n"
   ]
  },
  {
   "cell_type": "markdown",
   "metadata": {},
   "source": [
    "### Task 4 - Print top 5 rows of the dataset\n"
   ]
  },
  {
   "cell_type": "code",
   "execution_count": 7,
   "metadata": {
    "tags": []
   },
   "outputs": [
    {
     "name": "stdout",
     "output_type": "stream",
     "text": [
      "+---------+-------------+-----------+------------------+-----------------------+----------+\n",
      "|Frequency|AngleOfAttack|ChordLength|FreeStreamVelocity|SuctionSideDisplacement|SoundLevel|\n",
      "+---------+-------------+-----------+------------------+-----------------------+----------+\n",
      "|      800|          0.0|     0.3048|              71.3|             0.00266337|   126.201|\n",
      "|     1000|          0.0|     0.3048|              71.3|             0.00266337|   125.201|\n",
      "|     1250|          0.0|     0.3048|              71.3|             0.00266337|   125.951|\n",
      "|     1600|          0.0|     0.3048|              71.3|             0.00266337|   127.591|\n",
      "|     2000|          0.0|     0.3048|              71.3|             0.00266337|   127.461|\n",
      "+---------+-------------+-----------+------------------+-----------------------+----------+\n",
      "only showing top 5 rows\n",
      "\n"
     ]
    }
   ],
   "source": [
    "#your code goes here\n",
    "\n",
    "df.show(5)"
   ]
  },
  {
   "cell_type": "markdown",
   "metadata": {},
   "source": [
    "### Task 6 - Print the total number of rows in the dataset\n"
   ]
  },
  {
   "cell_type": "code",
   "execution_count": 8,
   "metadata": {
    "tags": []
   },
   "outputs": [
    {
     "name": "stdout",
     "output_type": "stream",
     "text": [
      "1522\n"
     ]
    }
   ],
   "source": [
    "#your code goes here\n",
    "rowcount1 = df.count()\n",
    "print(rowcount1)\n"
   ]
  },
  {
   "cell_type": "markdown",
   "metadata": {},
   "source": [
    "### Task 7 - Drop all the duplicate rows from the dataset\n"
   ]
  },
  {
   "cell_type": "code",
   "execution_count": 9,
   "metadata": {
    "tags": []
   },
   "outputs": [],
   "source": [
    "df = df.dropDuplicates()"
   ]
  },
  {
   "cell_type": "markdown",
   "metadata": {},
   "source": [
    "### Task 8 - Print the total number of rows in the dataset\n"
   ]
  },
  {
   "cell_type": "code",
   "execution_count": 10,
   "metadata": {
    "tags": []
   },
   "outputs": [
    {
     "name": "stderr",
     "output_type": "stream",
     "text": [
      "[Stage 6:=====================================================> (193 + 7) / 200]"
     ]
    },
    {
     "name": "stdout",
     "output_type": "stream",
     "text": [
      "1503\n"
     ]
    },
    {
     "name": "stderr",
     "output_type": "stream",
     "text": [
      "                                                                                \r"
     ]
    }
   ],
   "source": [
    "#your code goes here\n",
    "\n",
    "rowcount2 = df.count()\n",
    "print(rowcount2)\n"
   ]
  },
  {
   "cell_type": "markdown",
   "metadata": {},
   "source": [
    "### Task 9 - Drop all the rows that contain null values from the dataset\n"
   ]
  },
  {
   "cell_type": "code",
   "execution_count": 11,
   "metadata": {
    "tags": []
   },
   "outputs": [],
   "source": [
    "\n",
    "df=df.dropna()"
   ]
  },
  {
   "cell_type": "markdown",
   "metadata": {},
   "source": [
    "### Task 10 - Print the total number of rows in the dataset\n"
   ]
  },
  {
   "cell_type": "code",
   "execution_count": 12,
   "metadata": {
    "tags": []
   },
   "outputs": [
    {
     "name": "stderr",
     "output_type": "stream",
     "text": [
      "[Stage 9:====================================================>  (192 + 8) / 200]"
     ]
    },
    {
     "name": "stdout",
     "output_type": "stream",
     "text": [
      "1499\n"
     ]
    },
    {
     "name": "stderr",
     "output_type": "stream",
     "text": [
      "                                                                                \r"
     ]
    }
   ],
   "source": [
    "#your code goes here\n",
    "\n",
    "rowcount3 = df.count()\n",
    "print(rowcount3)\n"
   ]
  },
  {
   "cell_type": "markdown",
   "metadata": {},
   "source": [
    "### Task 11 - Rename the column \"SoundLevel\" to \"SoundLevelDecibels\"Drop\n"
   ]
  },
  {
   "cell_type": "code",
   "execution_count": 13,
   "metadata": {
    "tags": []
   },
   "outputs": [],
   "source": [
    "# your code goes here\n",
    "\n",
    "df = df.withColumnRenamed(\"SoundLevel\",\"SoundLevelDecibels\")\n"
   ]
  },
  {
   "cell_type": "markdown",
   "metadata": {},
   "source": [
    "### Task 12 - Save the dataframe in parquet formant, name the file as \"NASA_airfoil_noise_cleaned.parquet\"\n"
   ]
  },
  {
   "cell_type": "code",
   "execution_count": 14,
   "metadata": {
    "tags": []
   },
   "outputs": [
    {
     "name": "stderr",
     "output_type": "stream",
     "text": [
      "[Stage 12:>                                                       (0 + 8) / 200]24/02/24 10:47:54 WARN hadoop.MemoryManager: Total allocation exceeds 95.00% (906,992,014 bytes) of heap memory\n",
      "Scaling row group sizes to 96.54% for 7 writers\n",
      "24/02/24 10:47:55 WARN hadoop.MemoryManager: Total allocation exceeds 95.00% (906,992,014 bytes) of heap memory\n",
      "Scaling row group sizes to 84.47% for 8 writers\n",
      "24/02/24 10:47:55 WARN hadoop.MemoryManager: Total allocation exceeds 95.00% (906,992,014 bytes) of heap memory\n",
      "Scaling row group sizes to 96.54% for 7 writers\n",
      "                                                                                \r"
     ]
    }
   ],
   "source": [
    "# your code goes here\n",
    "\n",
    "df.write.mode(\"overwrite\").parquet(\"NASA_airfoil_noise_cleaned.parquet\")"
   ]
  },
  {
   "cell_type": "markdown",
   "metadata": {},
   "source": [
    "#### Part 1 - Evaluation\n"
   ]
  },
  {
   "cell_type": "markdown",
   "metadata": {},
   "source": [
    "\n",
    "Run the code cell below.<br>\n",
    "Use the answers here to answer the final evaluation quiz in the next section.<br>\n",
    "If the code throws up any errors, go back and review the code you have written.\n"
   ]
  },
  {
   "cell_type": "code",
   "execution_count": 15,
   "metadata": {
    "tags": []
   },
   "outputs": [
    {
     "name": "stdout",
     "output_type": "stream",
     "text": [
      "Part 1 - Evaluation\n",
      "Total rows =  1522\n",
      "Total rows after dropping duplicate rows =  1503\n",
      "Total rows after dropping duplicate rows and rows with null values =  1499\n",
      "New column name =  SoundLevelDecibels\n",
      "NASA_airfoil_noise_cleaned.parquet exists : True\n"
     ]
    }
   ],
   "source": [
    "print(\"Part 1 - Evaluation\")\n",
    "\n",
    "print(\"Total rows = \", rowcount1)\n",
    "print(\"Total rows after dropping duplicate rows = \", rowcount2)\n",
    "print(\"Total rows after dropping duplicate rows and rows with null values = \", rowcount3)\n",
    "print(\"New column name = \", df.columns[-1])\n",
    "\n",
    "import os\n",
    "\n",
    "print(\"NASA_airfoil_noise_cleaned.parquet exists :\", os.path.isdir(\"NASA_airfoil_noise_cleaned.parquet\"))"
   ]
  },
  {
   "cell_type": "code",
   "execution_count": 15,
   "metadata": {
    "tags": []
   },
   "outputs": [
    {
     "data": {
      "text/plain": [
       "['total 454',\n",
       " '-rw-r--r-- 1 jupyterlab resources    0 Feb 24 10:23 _SUCCESS',\n",
       " '-rw-r--r-- 1 jupyterlab resources 2089 Feb 24 10:21 part-00000-f92aa71f-ce58-4175-b171-10847d4bcca8-c000.snappy.parquet',\n",
       " '-rw-r--r-- 1 jupyterlab resources 2011 Feb 24 10:21 part-00001-f92aa71f-ce58-4175-b171-10847d4bcca8-c000.snappy.parquet',\n",
       " '-rw-r--r-- 1 jupyterlab resources 2035 Feb 24 10:21 part-00002-f92aa71f-ce58-4175-b171-10847d4bcca8-c000.snappy.parquet',\n",
       " '-rw-r--r-- 1 jupyterlab resources 2041 Feb 24 10:21 part-00003-f92aa71f-ce58-4175-b171-10847d4bcca8-c000.snappy.parquet',\n",
       " '-rw-r--r-- 1 jupyterlab resources 2082 Feb 24 10:21 part-00004-f92aa71f-ce58-4175-b171-10847d4bcca8-c000.snappy.parquet',\n",
       " '-rw-r--r-- 1 jupyterlab resources 2019 Feb 24 10:21 part-00005-f92aa71f-ce58-4175-b171-10847d4bcca8-c000.snappy.parquet',\n",
       " '-rw-r--r-- 1 jupyterlab resources 2214 Feb 24 10:21 part-00006-f92aa71f-ce58-4175-b171-10847d4bcca8-c000.snappy.parquet',\n",
       " '-rw-r--r-- 1 jupyterlab resources 2159 Feb 24 10:21 part-00007-f92aa71f-ce58-4175-b171-10847d4bcca8-c000.snappy.parquet',\n",
       " '-rw-r--r-- 1 jupyterlab resources 2089 Feb 24 10:21 part-00008-f92aa71f-ce58-4175-b171-10847d4bcca8-c000.snappy.parquet',\n",
       " '-rw-r--r-- 1 jupyterlab resources 1979 Feb 24 10:21 part-00009-f92aa71f-ce58-4175-b171-10847d4bcca8-c000.snappy.parquet',\n",
       " '-rw-r--r-- 1 jupyterlab resources 2123 Feb 24 10:21 part-00010-f92aa71f-ce58-4175-b171-10847d4bcca8-c000.snappy.parquet',\n",
       " '-rw-r--r-- 1 jupyterlab resources 2068 Feb 24 10:21 part-00011-f92aa71f-ce58-4175-b171-10847d4bcca8-c000.snappy.parquet',\n",
       " '-rw-r--r-- 1 jupyterlab resources 1987 Feb 24 10:21 part-00012-f92aa71f-ce58-4175-b171-10847d4bcca8-c000.snappy.parquet',\n",
       " '-rw-r--r-- 1 jupyterlab resources 1929 Feb 24 10:21 part-00013-f92aa71f-ce58-4175-b171-10847d4bcca8-c000.snappy.parquet',\n",
       " '-rw-r--r-- 1 jupyterlab resources 2170 Feb 24 10:21 part-00014-f92aa71f-ce58-4175-b171-10847d4bcca8-c000.snappy.parquet',\n",
       " '-rw-r--r-- 1 jupyterlab resources 2046 Feb 24 10:21 part-00015-f92aa71f-ce58-4175-b171-10847d4bcca8-c000.snappy.parquet',\n",
       " '-rw-r--r-- 1 jupyterlab resources 2086 Feb 24 10:21 part-00016-f92aa71f-ce58-4175-b171-10847d4bcca8-c000.snappy.parquet',\n",
       " '-rw-r--r-- 1 jupyterlab resources 2171 Feb 24 10:21 part-00017-f92aa71f-ce58-4175-b171-10847d4bcca8-c000.snappy.parquet',\n",
       " '-rw-r--r-- 1 jupyterlab resources 1924 Feb 24 10:21 part-00018-f92aa71f-ce58-4175-b171-10847d4bcca8-c000.snappy.parquet',\n",
       " '-rw-r--r-- 1 jupyterlab resources 2036 Feb 24 10:21 part-00019-f92aa71f-ce58-4175-b171-10847d4bcca8-c000.snappy.parquet',\n",
       " '-rw-r--r-- 1 jupyterlab resources 2008 Feb 24 10:21 part-00020-f92aa71f-ce58-4175-b171-10847d4bcca8-c000.snappy.parquet',\n",
       " '-rw-r--r-- 1 jupyterlab resources 2168 Feb 24 10:21 part-00021-f92aa71f-ce58-4175-b171-10847d4bcca8-c000.snappy.parquet',\n",
       " '-rw-r--r-- 1 jupyterlab resources 2150 Feb 24 10:21 part-00022-f92aa71f-ce58-4175-b171-10847d4bcca8-c000.snappy.parquet',\n",
       " '-rw-r--r-- 1 jupyterlab resources 2044 Feb 24 10:21 part-00023-f92aa71f-ce58-4175-b171-10847d4bcca8-c000.snappy.parquet',\n",
       " '-rw-r--r-- 1 jupyterlab resources 1961 Feb 24 10:21 part-00024-f92aa71f-ce58-4175-b171-10847d4bcca8-c000.snappy.parquet',\n",
       " '-rw-r--r-- 1 jupyterlab resources 1896 Feb 24 10:21 part-00025-f92aa71f-ce58-4175-b171-10847d4bcca8-c000.snappy.parquet',\n",
       " '-rw-r--r-- 1 jupyterlab resources 1915 Feb 24 10:21 part-00026-f92aa71f-ce58-4175-b171-10847d4bcca8-c000.snappy.parquet',\n",
       " '-rw-r--r-- 1 jupyterlab resources 2068 Feb 24 10:21 part-00027-f92aa71f-ce58-4175-b171-10847d4bcca8-c000.snappy.parquet',\n",
       " '-rw-r--r-- 1 jupyterlab resources 1860 Feb 24 10:21 part-00028-f92aa71f-ce58-4175-b171-10847d4bcca8-c000.snappy.parquet',\n",
       " '-rw-r--r-- 1 jupyterlab resources 2127 Feb 24 10:21 part-00029-f92aa71f-ce58-4175-b171-10847d4bcca8-c000.snappy.parquet',\n",
       " '-rw-r--r-- 1 jupyterlab resources 2186 Feb 24 10:21 part-00030-f92aa71f-ce58-4175-b171-10847d4bcca8-c000.snappy.parquet',\n",
       " '-rw-r--r-- 1 jupyterlab resources 1964 Feb 24 10:21 part-00031-f92aa71f-ce58-4175-b171-10847d4bcca8-c000.snappy.parquet',\n",
       " '-rw-r--r-- 1 jupyterlab resources 2219 Feb 24 10:21 part-00032-f92aa71f-ce58-4175-b171-10847d4bcca8-c000.snappy.parquet',\n",
       " '-rw-r--r-- 1 jupyterlab resources 2097 Feb 24 10:21 part-00033-f92aa71f-ce58-4175-b171-10847d4bcca8-c000.snappy.parquet',\n",
       " '-rw-r--r-- 1 jupyterlab resources 2023 Feb 24 10:21 part-00034-f92aa71f-ce58-4175-b171-10847d4bcca8-c000.snappy.parquet',\n",
       " '-rw-r--r-- 1 jupyterlab resources 2138 Feb 24 10:21 part-00035-f92aa71f-ce58-4175-b171-10847d4bcca8-c000.snappy.parquet',\n",
       " '-rw-r--r-- 1 jupyterlab resources 1997 Feb 24 10:21 part-00036-f92aa71f-ce58-4175-b171-10847d4bcca8-c000.snappy.parquet',\n",
       " '-rw-r--r-- 1 jupyterlab resources 1877 Feb 24 10:21 part-00037-f92aa71f-ce58-4175-b171-10847d4bcca8-c000.snappy.parquet',\n",
       " '-rw-r--r-- 1 jupyterlab resources 1909 Feb 24 10:21 part-00038-f92aa71f-ce58-4175-b171-10847d4bcca8-c000.snappy.parquet',\n",
       " '-rw-r--r-- 1 jupyterlab resources 2117 Feb 24 10:21 part-00039-f92aa71f-ce58-4175-b171-10847d4bcca8-c000.snappy.parquet',\n",
       " '-rw-r--r-- 1 jupyterlab resources 2118 Feb 24 10:21 part-00040-f92aa71f-ce58-4175-b171-10847d4bcca8-c000.snappy.parquet',\n",
       " '-rw-r--r-- 1 jupyterlab resources 1997 Feb 24 10:21 part-00041-f92aa71f-ce58-4175-b171-10847d4bcca8-c000.snappy.parquet',\n",
       " '-rw-r--r-- 1 jupyterlab resources 1961 Feb 24 10:21 part-00042-f92aa71f-ce58-4175-b171-10847d4bcca8-c000.snappy.parquet',\n",
       " '-rw-r--r-- 1 jupyterlab resources 1920 Feb 24 10:21 part-00043-f92aa71f-ce58-4175-b171-10847d4bcca8-c000.snappy.parquet',\n",
       " '-rw-r--r-- 1 jupyterlab resources 1992 Feb 24 10:21 part-00044-f92aa71f-ce58-4175-b171-10847d4bcca8-c000.snappy.parquet',\n",
       " '-rw-r--r-- 1 jupyterlab resources 1918 Feb 24 10:21 part-00045-f92aa71f-ce58-4175-b171-10847d4bcca8-c000.snappy.parquet',\n",
       " '-rw-r--r-- 1 jupyterlab resources 2048 Feb 24 10:21 part-00046-f92aa71f-ce58-4175-b171-10847d4bcca8-c000.snappy.parquet',\n",
       " '-rw-r--r-- 1 jupyterlab resources 2079 Feb 24 10:21 part-00047-f92aa71f-ce58-4175-b171-10847d4bcca8-c000.snappy.parquet',\n",
       " '-rw-r--r-- 1 jupyterlab resources 1999 Feb 24 10:21 part-00048-f92aa71f-ce58-4175-b171-10847d4bcca8-c000.snappy.parquet',\n",
       " '-rw-r--r-- 1 jupyterlab resources 2311 Feb 24 10:21 part-00049-f92aa71f-ce58-4175-b171-10847d4bcca8-c000.snappy.parquet',\n",
       " '-rw-r--r-- 1 jupyterlab resources 2133 Feb 24 10:21 part-00050-f92aa71f-ce58-4175-b171-10847d4bcca8-c000.snappy.parquet',\n",
       " '-rw-r--r-- 1 jupyterlab resources 2059 Feb 24 10:21 part-00051-f92aa71f-ce58-4175-b171-10847d4bcca8-c000.snappy.parquet',\n",
       " '-rw-r--r-- 1 jupyterlab resources 2078 Feb 24 10:21 part-00052-f92aa71f-ce58-4175-b171-10847d4bcca8-c000.snappy.parquet',\n",
       " '-rw-r--r-- 1 jupyterlab resources 1852 Feb 24 10:21 part-00053-f92aa71f-ce58-4175-b171-10847d4bcca8-c000.snappy.parquet',\n",
       " '-rw-r--r-- 1 jupyterlab resources 2063 Feb 24 10:21 part-00054-f92aa71f-ce58-4175-b171-10847d4bcca8-c000.snappy.parquet',\n",
       " '-rw-r--r-- 1 jupyterlab resources 2016 Feb 24 10:21 part-00055-f92aa71f-ce58-4175-b171-10847d4bcca8-c000.snappy.parquet',\n",
       " '-rw-r--r-- 1 jupyterlab resources 2064 Feb 24 10:21 part-00056-f92aa71f-ce58-4175-b171-10847d4bcca8-c000.snappy.parquet',\n",
       " '-rw-r--r-- 1 jupyterlab resources 1970 Feb 24 10:21 part-00057-f92aa71f-ce58-4175-b171-10847d4bcca8-c000.snappy.parquet',\n",
       " '-rw-r--r-- 1 jupyterlab resources 2147 Feb 24 10:21 part-00058-f92aa71f-ce58-4175-b171-10847d4bcca8-c000.snappy.parquet',\n",
       " '-rw-r--r-- 1 jupyterlab resources 2028 Feb 24 10:21 part-00059-f92aa71f-ce58-4175-b171-10847d4bcca8-c000.snappy.parquet',\n",
       " '-rw-r--r-- 1 jupyterlab resources 1965 Feb 24 10:21 part-00060-f92aa71f-ce58-4175-b171-10847d4bcca8-c000.snappy.parquet',\n",
       " '-rw-r--r-- 1 jupyterlab resources 2088 Feb 24 10:21 part-00061-f92aa71f-ce58-4175-b171-10847d4bcca8-c000.snappy.parquet',\n",
       " '-rw-r--r-- 1 jupyterlab resources 2104 Feb 24 10:21 part-00062-f92aa71f-ce58-4175-b171-10847d4bcca8-c000.snappy.parquet',\n",
       " '-rw-r--r-- 1 jupyterlab resources 2095 Feb 24 10:21 part-00063-f92aa71f-ce58-4175-b171-10847d4bcca8-c000.snappy.parquet',\n",
       " '-rw-r--r-- 1 jupyterlab resources 2042 Feb 24 10:21 part-00064-f92aa71f-ce58-4175-b171-10847d4bcca8-c000.snappy.parquet',\n",
       " '-rw-r--r-- 1 jupyterlab resources 1972 Feb 24 10:21 part-00065-f92aa71f-ce58-4175-b171-10847d4bcca8-c000.snappy.parquet',\n",
       " '-rw-r--r-- 1 jupyterlab resources 2064 Feb 24 10:21 part-00066-f92aa71f-ce58-4175-b171-10847d4bcca8-c000.snappy.parquet',\n",
       " '-rw-r--r-- 1 jupyterlab resources 2061 Feb 24 10:21 part-00067-f92aa71f-ce58-4175-b171-10847d4bcca8-c000.snappy.parquet',\n",
       " '-rw-r--r-- 1 jupyterlab resources 2079 Feb 24 10:21 part-00068-f92aa71f-ce58-4175-b171-10847d4bcca8-c000.snappy.parquet',\n",
       " '-rw-r--r-- 1 jupyterlab resources 2120 Feb 24 10:21 part-00069-f92aa71f-ce58-4175-b171-10847d4bcca8-c000.snappy.parquet',\n",
       " '-rw-r--r-- 1 jupyterlab resources 2045 Feb 24 10:21 part-00070-f92aa71f-ce58-4175-b171-10847d4bcca8-c000.snappy.parquet',\n",
       " '-rw-r--r-- 1 jupyterlab resources 1963 Feb 24 10:21 part-00071-f92aa71f-ce58-4175-b171-10847d4bcca8-c000.snappy.parquet',\n",
       " '-rw-r--r-- 1 jupyterlab resources 2172 Feb 24 10:21 part-00072-f92aa71f-ce58-4175-b171-10847d4bcca8-c000.snappy.parquet',\n",
       " '-rw-r--r-- 1 jupyterlab resources 2084 Feb 24 10:21 part-00073-f92aa71f-ce58-4175-b171-10847d4bcca8-c000.snappy.parquet',\n",
       " '-rw-r--r-- 1 jupyterlab resources 2041 Feb 24 10:21 part-00074-f92aa71f-ce58-4175-b171-10847d4bcca8-c000.snappy.parquet',\n",
       " '-rw-r--r-- 1 jupyterlab resources 1989 Feb 24 10:21 part-00075-f92aa71f-ce58-4175-b171-10847d4bcca8-c000.snappy.parquet',\n",
       " '-rw-r--r-- 1 jupyterlab resources 2201 Feb 24 10:21 part-00076-f92aa71f-ce58-4175-b171-10847d4bcca8-c000.snappy.parquet',\n",
       " '-rw-r--r-- 1 jupyterlab resources 2003 Feb 24 10:21 part-00077-f92aa71f-ce58-4175-b171-10847d4bcca8-c000.snappy.parquet',\n",
       " '-rw-r--r-- 1 jupyterlab resources 2007 Feb 24 10:21 part-00078-f92aa71f-ce58-4175-b171-10847d4bcca8-c000.snappy.parquet',\n",
       " '-rw-r--r-- 1 jupyterlab resources 2182 Feb 24 10:21 part-00079-f92aa71f-ce58-4175-b171-10847d4bcca8-c000.snappy.parquet',\n",
       " '-rw-r--r-- 1 jupyterlab resources 2107 Feb 24 10:21 part-00080-f92aa71f-ce58-4175-b171-10847d4bcca8-c000.snappy.parquet',\n",
       " '-rw-r--r-- 1 jupyterlab resources 2018 Feb 24 10:21 part-00081-f92aa71f-ce58-4175-b171-10847d4bcca8-c000.snappy.parquet',\n",
       " '-rw-r--r-- 1 jupyterlab resources 2095 Feb 24 10:21 part-00082-f92aa71f-ce58-4175-b171-10847d4bcca8-c000.snappy.parquet',\n",
       " '-rw-r--r-- 1 jupyterlab resources 1921 Feb 24 10:21 part-00083-f92aa71f-ce58-4175-b171-10847d4bcca8-c000.snappy.parquet',\n",
       " '-rw-r--r-- 1 jupyterlab resources 2094 Feb 24 10:21 part-00084-f92aa71f-ce58-4175-b171-10847d4bcca8-c000.snappy.parquet',\n",
       " '-rw-r--r-- 1 jupyterlab resources 2097 Feb 24 10:21 part-00085-f92aa71f-ce58-4175-b171-10847d4bcca8-c000.snappy.parquet',\n",
       " '-rw-r--r-- 1 jupyterlab resources 2081 Feb 24 10:21 part-00086-f92aa71f-ce58-4175-b171-10847d4bcca8-c000.snappy.parquet',\n",
       " '-rw-r--r-- 1 jupyterlab resources 2134 Feb 24 10:21 part-00087-f92aa71f-ce58-4175-b171-10847d4bcca8-c000.snappy.parquet',\n",
       " '-rw-r--r-- 1 jupyterlab resources 2173 Feb 24 10:21 part-00088-f92aa71f-ce58-4175-b171-10847d4bcca8-c000.snappy.parquet',\n",
       " '-rw-r--r-- 1 jupyterlab resources 2052 Feb 24 10:21 part-00089-f92aa71f-ce58-4175-b171-10847d4bcca8-c000.snappy.parquet',\n",
       " '-rw-r--r-- 1 jupyterlab resources 2042 Feb 24 10:21 part-00090-f92aa71f-ce58-4175-b171-10847d4bcca8-c000.snappy.parquet',\n",
       " '-rw-r--r-- 1 jupyterlab resources 1949 Feb 24 10:21 part-00091-f92aa71f-ce58-4175-b171-10847d4bcca8-c000.snappy.parquet',\n",
       " '-rw-r--r-- 1 jupyterlab resources 1981 Feb 24 10:21 part-00092-f92aa71f-ce58-4175-b171-10847d4bcca8-c000.snappy.parquet',\n",
       " '-rw-r--r-- 1 jupyterlab resources 2033 Feb 24 10:21 part-00093-f92aa71f-ce58-4175-b171-10847d4bcca8-c000.snappy.parquet',\n",
       " '-rw-r--r-- 1 jupyterlab resources 1923 Feb 24 10:21 part-00094-f92aa71f-ce58-4175-b171-10847d4bcca8-c000.snappy.parquet',\n",
       " '-rw-r--r-- 1 jupyterlab resources 2062 Feb 24 10:21 part-00095-f92aa71f-ce58-4175-b171-10847d4bcca8-c000.snappy.parquet',\n",
       " '-rw-r--r-- 1 jupyterlab resources 2007 Feb 24 10:21 part-00096-f92aa71f-ce58-4175-b171-10847d4bcca8-c000.snappy.parquet',\n",
       " '-rw-r--r-- 1 jupyterlab resources 2033 Feb 24 10:21 part-00097-f92aa71f-ce58-4175-b171-10847d4bcca8-c000.snappy.parquet',\n",
       " '-rw-r--r-- 1 jupyterlab resources 2235 Feb 24 10:21 part-00098-f92aa71f-ce58-4175-b171-10847d4bcca8-c000.snappy.parquet',\n",
       " '-rw-r--r-- 1 jupyterlab resources 1933 Feb 24 10:21 part-00099-f92aa71f-ce58-4175-b171-10847d4bcca8-c000.snappy.parquet',\n",
       " '-rw-r--r-- 1 jupyterlab resources 2070 Feb 24 10:21 part-00100-f92aa71f-ce58-4175-b171-10847d4bcca8-c000.snappy.parquet',\n",
       " '-rw-r--r-- 1 jupyterlab resources 2099 Feb 24 10:21 part-00101-f92aa71f-ce58-4175-b171-10847d4bcca8-c000.snappy.parquet',\n",
       " '-rw-r--r-- 1 jupyterlab resources 2037 Feb 24 10:21 part-00102-f92aa71f-ce58-4175-b171-10847d4bcca8-c000.snappy.parquet',\n",
       " '-rw-r--r-- 1 jupyterlab resources 1978 Feb 24 10:21 part-00103-f92aa71f-ce58-4175-b171-10847d4bcca8-c000.snappy.parquet',\n",
       " '-rw-r--r-- 1 jupyterlab resources 2039 Feb 24 10:21 part-00104-f92aa71f-ce58-4175-b171-10847d4bcca8-c000.snappy.parquet',\n",
       " '-rw-r--r-- 1 jupyterlab resources 2094 Feb 24 10:21 part-00105-f92aa71f-ce58-4175-b171-10847d4bcca8-c000.snappy.parquet',\n",
       " '-rw-r--r-- 1 jupyterlab resources 2189 Feb 24 10:21 part-00106-f92aa71f-ce58-4175-b171-10847d4bcca8-c000.snappy.parquet',\n",
       " '-rw-r--r-- 1 jupyterlab resources 2090 Feb 24 10:21 part-00107-f92aa71f-ce58-4175-b171-10847d4bcca8-c000.snappy.parquet',\n",
       " '-rw-r--r-- 1 jupyterlab resources 1935 Feb 24 10:21 part-00108-f92aa71f-ce58-4175-b171-10847d4bcca8-c000.snappy.parquet',\n",
       " '-rw-r--r-- 1 jupyterlab resources 1958 Feb 24 10:21 part-00109-f92aa71f-ce58-4175-b171-10847d4bcca8-c000.snappy.parquet',\n",
       " '-rw-r--r-- 1 jupyterlab resources 2251 Feb 24 10:21 part-00110-f92aa71f-ce58-4175-b171-10847d4bcca8-c000.snappy.parquet',\n",
       " '-rw-r--r-- 1 jupyterlab resources 2099 Feb 24 10:21 part-00111-f92aa71f-ce58-4175-b171-10847d4bcca8-c000.snappy.parquet',\n",
       " '-rw-r--r-- 1 jupyterlab resources 2125 Feb 24 10:21 part-00112-f92aa71f-ce58-4175-b171-10847d4bcca8-c000.snappy.parquet',\n",
       " '-rw-r--r-- 1 jupyterlab resources 1990 Feb 24 10:21 part-00113-f92aa71f-ce58-4175-b171-10847d4bcca8-c000.snappy.parquet',\n",
       " '-rw-r--r-- 1 jupyterlab resources 2247 Feb 24 10:21 part-00114-f92aa71f-ce58-4175-b171-10847d4bcca8-c000.snappy.parquet',\n",
       " '-rw-r--r-- 1 jupyterlab resources 2024 Feb 24 10:21 part-00115-f92aa71f-ce58-4175-b171-10847d4bcca8-c000.snappy.parquet',\n",
       " '-rw-r--r-- 1 jupyterlab resources 1969 Feb 24 10:21 part-00116-f92aa71f-ce58-4175-b171-10847d4bcca8-c000.snappy.parquet',\n",
       " '-rw-r--r-- 1 jupyterlab resources 1965 Feb 24 10:21 part-00117-f92aa71f-ce58-4175-b171-10847d4bcca8-c000.snappy.parquet',\n",
       " '-rw-r--r-- 1 jupyterlab resources 2162 Feb 24 10:21 part-00118-f92aa71f-ce58-4175-b171-10847d4bcca8-c000.snappy.parquet',\n",
       " '-rw-r--r-- 1 jupyterlab resources 1972 Feb 24 10:21 part-00119-f92aa71f-ce58-4175-b171-10847d4bcca8-c000.snappy.parquet',\n",
       " '-rw-r--r-- 1 jupyterlab resources 2090 Feb 24 10:21 part-00120-f92aa71f-ce58-4175-b171-10847d4bcca8-c000.snappy.parquet',\n",
       " '-rw-r--r-- 1 jupyterlab resources 2095 Feb 24 10:21 part-00121-f92aa71f-ce58-4175-b171-10847d4bcca8-c000.snappy.parquet',\n",
       " '-rw-r--r-- 1 jupyterlab resources 2136 Feb 24 10:21 part-00122-f92aa71f-ce58-4175-b171-10847d4bcca8-c000.snappy.parquet',\n",
       " '-rw-r--r-- 1 jupyterlab resources 2068 Feb 24 10:22 part-00123-f92aa71f-ce58-4175-b171-10847d4bcca8-c000.snappy.parquet',\n",
       " '-rw-r--r-- 1 jupyterlab resources 1942 Feb 24 10:22 part-00124-f92aa71f-ce58-4175-b171-10847d4bcca8-c000.snappy.parquet',\n",
       " '-rw-r--r-- 1 jupyterlab resources 2262 Feb 24 10:22 part-00125-f92aa71f-ce58-4175-b171-10847d4bcca8-c000.snappy.parquet',\n",
       " '-rw-r--r-- 1 jupyterlab resources 1979 Feb 24 10:22 part-00126-f92aa71f-ce58-4175-b171-10847d4bcca8-c000.snappy.parquet',\n",
       " '-rw-r--r-- 1 jupyterlab resources 2082 Feb 24 10:22 part-00127-f92aa71f-ce58-4175-b171-10847d4bcca8-c000.snappy.parquet',\n",
       " '-rw-r--r-- 1 jupyterlab resources 2013 Feb 24 10:22 part-00128-f92aa71f-ce58-4175-b171-10847d4bcca8-c000.snappy.parquet',\n",
       " '-rw-r--r-- 1 jupyterlab resources 2124 Feb 24 10:22 part-00129-f92aa71f-ce58-4175-b171-10847d4bcca8-c000.snappy.parquet',\n",
       " '-rw-r--r-- 1 jupyterlab resources 2023 Feb 24 10:22 part-00130-f92aa71f-ce58-4175-b171-10847d4bcca8-c000.snappy.parquet',\n",
       " '-rw-r--r-- 1 jupyterlab resources 2143 Feb 24 10:22 part-00131-f92aa71f-ce58-4175-b171-10847d4bcca8-c000.snappy.parquet',\n",
       " '-rw-r--r-- 1 jupyterlab resources 2148 Feb 24 10:22 part-00132-f92aa71f-ce58-4175-b171-10847d4bcca8-c000.snappy.parquet',\n",
       " '-rw-r--r-- 1 jupyterlab resources 2191 Feb 24 10:22 part-00133-f92aa71f-ce58-4175-b171-10847d4bcca8-c000.snappy.parquet',\n",
       " '-rw-r--r-- 1 jupyterlab resources 2139 Feb 24 10:22 part-00134-f92aa71f-ce58-4175-b171-10847d4bcca8-c000.snappy.parquet',\n",
       " '-rw-r--r-- 1 jupyterlab resources 2035 Feb 24 10:22 part-00135-f92aa71f-ce58-4175-b171-10847d4bcca8-c000.snappy.parquet',\n",
       " '-rw-r--r-- 1 jupyterlab resources 2165 Feb 24 10:22 part-00136-f92aa71f-ce58-4175-b171-10847d4bcca8-c000.snappy.parquet',\n",
       " '-rw-r--r-- 1 jupyterlab resources 2099 Feb 24 10:22 part-00137-f92aa71f-ce58-4175-b171-10847d4bcca8-c000.snappy.parquet',\n",
       " '-rw-r--r-- 1 jupyterlab resources 1971 Feb 24 10:22 part-00138-f92aa71f-ce58-4175-b171-10847d4bcca8-c000.snappy.parquet',\n",
       " '-rw-r--r-- 1 jupyterlab resources 2110 Feb 24 10:22 part-00139-f92aa71f-ce58-4175-b171-10847d4bcca8-c000.snappy.parquet',\n",
       " '-rw-r--r-- 1 jupyterlab resources 2074 Feb 24 10:22 part-00140-f92aa71f-ce58-4175-b171-10847d4bcca8-c000.snappy.parquet',\n",
       " '-rw-r--r-- 1 jupyterlab resources 1965 Feb 24 10:22 part-00141-f92aa71f-ce58-4175-b171-10847d4bcca8-c000.snappy.parquet',\n",
       " '-rw-r--r-- 1 jupyterlab resources 1916 Feb 24 10:22 part-00142-f92aa71f-ce58-4175-b171-10847d4bcca8-c000.snappy.parquet',\n",
       " '-rw-r--r-- 1 jupyterlab resources 1994 Feb 24 10:22 part-00143-f92aa71f-ce58-4175-b171-10847d4bcca8-c000.snappy.parquet',\n",
       " '-rw-r--r-- 1 jupyterlab resources 2090 Feb 24 10:22 part-00144-f92aa71f-ce58-4175-b171-10847d4bcca8-c000.snappy.parquet',\n",
       " '-rw-r--r-- 1 jupyterlab resources 2075 Feb 24 10:22 part-00145-f92aa71f-ce58-4175-b171-10847d4bcca8-c000.snappy.parquet',\n",
       " '-rw-r--r-- 1 jupyterlab resources 2043 Feb 24 10:22 part-00146-f92aa71f-ce58-4175-b171-10847d4bcca8-c000.snappy.parquet',\n",
       " '-rw-r--r-- 1 jupyterlab resources 2052 Feb 24 10:22 part-00147-f92aa71f-ce58-4175-b171-10847d4bcca8-c000.snappy.parquet',\n",
       " '-rw-r--r-- 1 jupyterlab resources 2188 Feb 24 10:22 part-00148-f92aa71f-ce58-4175-b171-10847d4bcca8-c000.snappy.parquet',\n",
       " '-rw-r--r-- 1 jupyterlab resources 1970 Feb 24 10:22 part-00149-f92aa71f-ce58-4175-b171-10847d4bcca8-c000.snappy.parquet',\n",
       " '-rw-r--r-- 1 jupyterlab resources 2113 Feb 24 10:22 part-00150-f92aa71f-ce58-4175-b171-10847d4bcca8-c000.snappy.parquet',\n",
       " '-rw-r--r-- 1 jupyterlab resources 1975 Feb 24 10:22 part-00151-f92aa71f-ce58-4175-b171-10847d4bcca8-c000.snappy.parquet',\n",
       " '-rw-r--r-- 1 jupyterlab resources 2079 Feb 24 10:22 part-00152-f92aa71f-ce58-4175-b171-10847d4bcca8-c000.snappy.parquet',\n",
       " '-rw-r--r-- 1 jupyterlab resources 2098 Feb 24 10:22 part-00153-f92aa71f-ce58-4175-b171-10847d4bcca8-c000.snappy.parquet',\n",
       " '-rw-r--r-- 1 jupyterlab resources 2076 Feb 24 10:22 part-00154-f92aa71f-ce58-4175-b171-10847d4bcca8-c000.snappy.parquet',\n",
       " '-rw-r--r-- 1 jupyterlab resources 2022 Feb 24 10:22 part-00155-f92aa71f-ce58-4175-b171-10847d4bcca8-c000.snappy.parquet',\n",
       " '-rw-r--r-- 1 jupyterlab resources 1966 Feb 24 10:22 part-00156-f92aa71f-ce58-4175-b171-10847d4bcca8-c000.snappy.parquet',\n",
       " '-rw-r--r-- 1 jupyterlab resources 2041 Feb 24 10:22 part-00157-f92aa71f-ce58-4175-b171-10847d4bcca8-c000.snappy.parquet',\n",
       " '-rw-r--r-- 1 jupyterlab resources 2101 Feb 24 10:22 part-00158-f92aa71f-ce58-4175-b171-10847d4bcca8-c000.snappy.parquet',\n",
       " '-rw-r--r-- 1 jupyterlab resources 2101 Feb 24 10:22 part-00159-f92aa71f-ce58-4175-b171-10847d4bcca8-c000.snappy.parquet',\n",
       " '-rw-r--r-- 1 jupyterlab resources 2085 Feb 24 10:22 part-00160-f92aa71f-ce58-4175-b171-10847d4bcca8-c000.snappy.parquet',\n",
       " '-rw-r--r-- 1 jupyterlab resources 2074 Feb 24 10:22 part-00161-f92aa71f-ce58-4175-b171-10847d4bcca8-c000.snappy.parquet',\n",
       " '-rw-r--r-- 1 jupyterlab resources 2081 Feb 24 10:22 part-00162-f92aa71f-ce58-4175-b171-10847d4bcca8-c000.snappy.parquet',\n",
       " '-rw-r--r-- 1 jupyterlab resources 2239 Feb 24 10:22 part-00163-f92aa71f-ce58-4175-b171-10847d4bcca8-c000.snappy.parquet',\n",
       " '-rw-r--r-- 1 jupyterlab resources 2081 Feb 24 10:22 part-00164-f92aa71f-ce58-4175-b171-10847d4bcca8-c000.snappy.parquet',\n",
       " '-rw-r--r-- 1 jupyterlab resources 2001 Feb 24 10:22 part-00165-f92aa71f-ce58-4175-b171-10847d4bcca8-c000.snappy.parquet',\n",
       " '-rw-r--r-- 1 jupyterlab resources 1820 Feb 24 10:22 part-00166-f92aa71f-ce58-4175-b171-10847d4bcca8-c000.snappy.parquet',\n",
       " '-rw-r--r-- 1 jupyterlab resources 1958 Feb 24 10:22 part-00167-f92aa71f-ce58-4175-b171-10847d4bcca8-c000.snappy.parquet',\n",
       " '-rw-r--r-- 1 jupyterlab resources 2042 Feb 24 10:22 part-00168-f92aa71f-ce58-4175-b171-10847d4bcca8-c000.snappy.parquet',\n",
       " '-rw-r--r-- 1 jupyterlab resources 2044 Feb 24 10:22 part-00169-f92aa71f-ce58-4175-b171-10847d4bcca8-c000.snappy.parquet',\n",
       " '-rw-r--r-- 1 jupyterlab resources 2007 Feb 24 10:22 part-00170-f92aa71f-ce58-4175-b171-10847d4bcca8-c000.snappy.parquet',\n",
       " '-rw-r--r-- 1 jupyterlab resources 1962 Feb 24 10:22 part-00171-f92aa71f-ce58-4175-b171-10847d4bcca8-c000.snappy.parquet',\n",
       " '-rw-r--r-- 1 jupyterlab resources 1976 Feb 24 10:22 part-00172-f92aa71f-ce58-4175-b171-10847d4bcca8-c000.snappy.parquet',\n",
       " '-rw-r--r-- 1 jupyterlab resources 2047 Feb 24 10:22 part-00173-f92aa71f-ce58-4175-b171-10847d4bcca8-c000.snappy.parquet',\n",
       " '-rw-r--r-- 1 jupyterlab resources 2062 Feb 24 10:22 part-00174-f92aa71f-ce58-4175-b171-10847d4bcca8-c000.snappy.parquet',\n",
       " '-rw-r--r-- 1 jupyterlab resources 2224 Feb 24 10:22 part-00175-f92aa71f-ce58-4175-b171-10847d4bcca8-c000.snappy.parquet',\n",
       " '-rw-r--r-- 1 jupyterlab resources 2129 Feb 24 10:22 part-00176-f92aa71f-ce58-4175-b171-10847d4bcca8-c000.snappy.parquet',\n",
       " '-rw-r--r-- 1 jupyterlab resources 2141 Feb 24 10:22 part-00177-f92aa71f-ce58-4175-b171-10847d4bcca8-c000.snappy.parquet',\n",
       " '-rw-r--r-- 1 jupyterlab resources 2099 Feb 24 10:22 part-00178-f92aa71f-ce58-4175-b171-10847d4bcca8-c000.snappy.parquet',\n",
       " '-rw-r--r-- 1 jupyterlab resources 2128 Feb 24 10:22 part-00179-f92aa71f-ce58-4175-b171-10847d4bcca8-c000.snappy.parquet',\n",
       " '-rw-r--r-- 1 jupyterlab resources 1993 Feb 24 10:22 part-00180-f92aa71f-ce58-4175-b171-10847d4bcca8-c000.snappy.parquet',\n",
       " '-rw-r--r-- 1 jupyterlab resources 1893 Feb 24 10:22 part-00181-f92aa71f-ce58-4175-b171-10847d4bcca8-c000.snappy.parquet',\n",
       " '-rw-r--r-- 1 jupyterlab resources 2058 Feb 24 10:22 part-00182-f92aa71f-ce58-4175-b171-10847d4bcca8-c000.snappy.parquet',\n",
       " '-rw-r--r-- 1 jupyterlab resources 2088 Feb 24 10:22 part-00183-f92aa71f-ce58-4175-b171-10847d4bcca8-c000.snappy.parquet',\n",
       " '-rw-r--r-- 1 jupyterlab resources 2045 Feb 24 10:22 part-00184-f92aa71f-ce58-4175-b171-10847d4bcca8-c000.snappy.parquet',\n",
       " '-rw-r--r-- 1 jupyterlab resources 2064 Feb 24 10:22 part-00185-f92aa71f-ce58-4175-b171-10847d4bcca8-c000.snappy.parquet',\n",
       " '-rw-r--r-- 1 jupyterlab resources 1933 Feb 24 10:22 part-00186-f92aa71f-ce58-4175-b171-10847d4bcca8-c000.snappy.parquet',\n",
       " '-rw-r--r-- 1 jupyterlab resources 1966 Feb 24 10:22 part-00187-f92aa71f-ce58-4175-b171-10847d4bcca8-c000.snappy.parquet',\n",
       " '-rw-r--r-- 1 jupyterlab resources 2013 Feb 24 10:22 part-00188-f92aa71f-ce58-4175-b171-10847d4bcca8-c000.snappy.parquet',\n",
       " '-rw-r--r-- 1 jupyterlab resources 2084 Feb 24 10:22 part-00189-f92aa71f-ce58-4175-b171-10847d4bcca8-c000.snappy.parquet',\n",
       " '-rw-r--r-- 1 jupyterlab resources 2065 Feb 24 10:22 part-00190-f92aa71f-ce58-4175-b171-10847d4bcca8-c000.snappy.parquet',\n",
       " '-rw-r--r-- 1 jupyterlab resources 2106 Feb 24 10:22 part-00191-f92aa71f-ce58-4175-b171-10847d4bcca8-c000.snappy.parquet',\n",
       " '-rw-r--r-- 1 jupyterlab resources 1969 Feb 24 10:22 part-00192-f92aa71f-ce58-4175-b171-10847d4bcca8-c000.snappy.parquet',\n",
       " '-rw-r--r-- 1 jupyterlab resources 2007 Feb 24 10:22 part-00193-f92aa71f-ce58-4175-b171-10847d4bcca8-c000.snappy.parquet',\n",
       " '-rw-r--r-- 1 jupyterlab resources 2086 Feb 24 10:22 part-00194-f92aa71f-ce58-4175-b171-10847d4bcca8-c000.snappy.parquet',\n",
       " '-rw-r--r-- 1 jupyterlab resources 2074 Feb 24 10:22 part-00195-f92aa71f-ce58-4175-b171-10847d4bcca8-c000.snappy.parquet',\n",
       " '-rw-r--r-- 1 jupyterlab resources 2183 Feb 24 10:22 part-00196-f92aa71f-ce58-4175-b171-10847d4bcca8-c000.snappy.parquet',\n",
       " '-rw-r--r-- 1 jupyterlab resources 2091 Feb 24 10:22 part-00197-f92aa71f-ce58-4175-b171-10847d4bcca8-c000.snappy.parquet',\n",
       " '-rw-r--r-- 1 jupyterlab resources 1953 Feb 24 10:22 part-00198-f92aa71f-ce58-4175-b171-10847d4bcca8-c000.snappy.parquet',\n",
       " '-rw-r--r-- 1 jupyterlab resources 2082 Feb 24 10:22 part-00199-f92aa71f-ce58-4175-b171-10847d4bcca8-c000.snappy.parquet']"
      ]
     },
     "execution_count": 15,
     "metadata": {},
     "output_type": "execute_result"
    }
   ],
   "source": []
  },
  {
   "cell_type": "markdown",
   "metadata": {},
   "source": [
    "## Part - 2 Create a  Machine Learning Pipeline\n"
   ]
  },
  {
   "cell_type": "code",
   "execution_count": 16,
   "metadata": {
    "tags": []
   },
   "outputs": [
    {
     "name": "stderr",
     "output_type": "stream",
     "text": [
      "                                                                                \r"
     ]
    },
    {
     "name": "stdout",
     "output_type": "stream",
     "text": [
      "total 15\n",
      "-rw-r--r-- 1 jupyterlab resources     0 Feb 24 10:51 _SUCCESS\n",
      "-rw-r--r-- 1 jupyterlab resources 14754 Feb 24 10:51 part-00000-6f83cb11-b7b5-424d-8d68-aab7729f9603-c000.snappy.parquet\n"
     ]
    }
   ],
   "source": [
    "df = df.repartition(1)\n",
    "df.write.mode(\"overwrite\").parquet(\"NASA_airfoil_noise_cleaned.parquet\")\n",
    "!ls -l NASA_airfoil_noise_cleaned.parquet"
   ]
  },
  {
   "cell_type": "markdown",
   "metadata": {},
   "source": [
    "### Task 1 - Load data from \"NASA_airfoil_noise_cleaned.parquet\" into a dataframe\n"
   ]
  },
  {
   "cell_type": "code",
   "execution_count": 17,
   "metadata": {
    "tags": []
   },
   "outputs": [
    {
     "name": "stdout",
     "output_type": "stream",
     "text": [
      "root\n",
      " |-- Frequency: integer (nullable = true)\n",
      " |-- AngleOfAttack: double (nullable = true)\n",
      " |-- ChordLength: double (nullable = true)\n",
      " |-- FreeStreamVelocity: double (nullable = true)\n",
      " |-- SuctionSideDisplacement: double (nullable = true)\n",
      " |-- SoundLevelDecibels: double (nullable = true)\n",
      "\n",
      "+---------+-------------+-----------+------------------+-----------------------+------------------+\n",
      "|Frequency|AngleOfAttack|ChordLength|FreeStreamVelocity|SuctionSideDisplacement|SoundLevelDecibels|\n",
      "+---------+-------------+-----------+------------------+-----------------------+------------------+\n",
      "|     4000|          3.0|     0.3048|              31.7|             0.00529514|           115.608|\n",
      "|     3150|          2.0|     0.2286|              31.7|             0.00372371|           121.527|\n",
      "|     2000|          7.3|     0.2286|              31.7|              0.0132672|           115.309|\n",
      "|     2000|          5.4|     0.1524|              71.3|             0.00401199|           131.111|\n",
      "|      500|          9.9|     0.1524|              71.3|              0.0193001|           131.279|\n",
      "|     1000|         12.6|     0.1524|              71.3|              0.0483159|           122.044|\n",
      "|    12500|          0.0|     0.0254|              39.6|             4.28464E-4|           129.116|\n",
      "|     1600|          4.8|     0.0254|              39.6|             9.07475E-4|           125.966|\n",
      "|     2000|         15.6|     0.1016|              71.3|              0.0437259|           119.888|\n",
      "|     6300|          0.0|     0.2286|              31.7|              0.0027238|           116.815|\n",
      "|     6300|          2.7|     0.1524|              39.6|             0.00294804|           119.209|\n",
      "|      630|          5.4|     0.1524|              31.7|             0.00525474|           131.471|\n",
      "|      800|         17.4|     0.0254|              31.7|              0.0176631|           139.226|\n",
      "|     2000|          0.0|     0.1016|              31.7|             0.00150092|           133.153|\n",
      "|      200|         15.6|     0.1016|              39.6|              0.0528487|           123.514|\n",
      "|     1000|          0.0|     0.3048|              71.3|             0.00266337|           125.201|\n",
      "|     1250|          0.0|     0.3048|              71.3|             0.00266337|           125.951|\n",
      "|      800|          2.7|     0.1524|              39.6|             0.00294804|           128.829|\n",
      "|     3150|          9.5|     0.0254|              39.6|             0.00449821|           129.934|\n",
      "|     6300|         12.7|     0.0254|              71.3|              0.0121808|           125.398|\n",
      "+---------+-------------+-----------+------------------+-----------------------+------------------+\n",
      "only showing top 20 rows\n",
      "\n"
     ]
    }
   ],
   "source": [
    "#your code goes here\n",
    "\n",
    "# Read the Parquet file\n",
    "df = spark.read.parquet(\"NASA_airfoil_noise_cleaned.parquet\")\n",
    "\n",
    "# Show the DataFrame schema and first few rows\n",
    "df.printSchema()\n",
    "df.show()"
   ]
  },
  {
   "cell_type": "markdown",
   "metadata": {},
   "source": [
    "### Task 2 - Print the total number of rows in the dataset\n"
   ]
  },
  {
   "cell_type": "code",
   "execution_count": 18,
   "metadata": {
    "tags": []
   },
   "outputs": [
    {
     "name": "stdout",
     "output_type": "stream",
     "text": [
      "1499\n"
     ]
    }
   ],
   "source": [
    "#your code goes here\n",
    "\n",
    "rowcount4 = df.count()\n",
    "print(rowcount4)\n",
    "\n"
   ]
  },
  {
   "cell_type": "markdown",
   "metadata": {},
   "source": [
    "### Task 3 - Define the VectorAssembler pipeline stage\n"
   ]
  },
  {
   "cell_type": "markdown",
   "metadata": {},
   "source": [
    "Stage 1 - Assemble the input columns into a single column \"features\". Use all the columns except SoundLevelDecibels as input features.\n"
   ]
  },
  {
   "cell_type": "code",
   "execution_count": 19,
   "metadata": {
    "tags": []
   },
   "outputs": [],
   "source": [
    "#your code goes here\n",
    "assembler = VectorAssembler(inputCols=[\"Frequency\", \"AngleOfAttack\", \"FreeStreamVelocity\", \"SuctionSideDisplacement\"], outputCol=\"features\")\n",
    "\n"
   ]
  },
  {
   "cell_type": "markdown",
   "metadata": {},
   "source": [
    "### Task 4 - Define the StandardScaler pipeline stage\n"
   ]
  },
  {
   "cell_type": "markdown",
   "metadata": {},
   "source": [
    "Stage 2 - Scale the \"features\" using standard scaler and store in \"scaledFeatures\" column\n"
   ]
  },
  {
   "cell_type": "code",
   "execution_count": 20,
   "metadata": {
    "tags": []
   },
   "outputs": [],
   "source": [
    "#your code goes here\n",
    "\n",
    "scaler = StandardScaler(inputCol=\"features\", outputCol=\"scaledFeatures\")"
   ]
  },
  {
   "cell_type": "markdown",
   "metadata": {},
   "source": [
    "### Task 5 - Define the StandardScaler pipeline stage\n"
   ]
  },
  {
   "cell_type": "markdown",
   "metadata": {},
   "source": [
    "Stage 3 - Create a LinearRegression stage to predict \"SoundLevelDecibels\"\n",
    "\n",
    "**Note:You need to use the scaledfeatures retreived in the previous step.**\n"
   ]
  },
  {
   "cell_type": "code",
   "execution_count": 21,
   "metadata": {
    "tags": []
   },
   "outputs": [],
   "source": [
    "#your code goes here\n",
    "\n",
    "lr = LinearRegression(featuresCol=\"scaledFeatures\", labelCol=\"SoundLevelDecibels\")"
   ]
  },
  {
   "cell_type": "markdown",
   "metadata": {},
   "source": [
    "### Task 6 - Build the pipeline\n"
   ]
  },
  {
   "cell_type": "markdown",
   "metadata": {},
   "source": [
    "Build a pipeline using the above three stages\n"
   ]
  },
  {
   "cell_type": "code",
   "execution_count": 22,
   "metadata": {
    "tags": []
   },
   "outputs": [],
   "source": [
    "#your code goes here\n",
    "\n",
    "pipeline = Pipeline(stages=[assembler, scaler, lr])\n"
   ]
  },
  {
   "cell_type": "markdown",
   "metadata": {},
   "source": [
    "### Task 7 - Split the data\n"
   ]
  },
  {
   "cell_type": "code",
   "execution_count": 23,
   "metadata": {
    "tags": []
   },
   "outputs": [],
   "source": [
    "# Split the data into training and testing sets with 70:30 split.\n",
    "# set the value of seed to 42\n",
    "# the above step is very important. DO NOT set the value of seed to any other value other than 42.\n",
    "\n",
    "#your code goes here\n",
    "\n",
    "(trainingData, testData) = df.randomSplit([0.7, 0.3], seed=42)"
   ]
  },
  {
   "cell_type": "markdown",
   "metadata": {},
   "source": [
    "### Task 8 - Fit the pipeline\n"
   ]
  },
  {
   "cell_type": "code",
   "execution_count": 24,
   "metadata": {
    "tags": []
   },
   "outputs": [
    {
     "name": "stderr",
     "output_type": "stream",
     "text": [
      "24/02/24 10:52:26 WARN util.Instrumentation: [7e9b83e0] regParam is zero, which might cause numerical instability and overfitting.\n",
      "24/02/24 10:52:27 WARN netlib.BLAS: Failed to load implementation from: com.github.fommil.netlib.NativeSystemBLAS\n",
      "24/02/24 10:52:27 WARN netlib.BLAS: Failed to load implementation from: com.github.fommil.netlib.NativeRefBLAS\n",
      "24/02/24 10:52:27 WARN netlib.LAPACK: Failed to load implementation from: com.github.fommil.netlib.NativeSystemLAPACK\n",
      "24/02/24 10:52:27 WARN netlib.LAPACK: Failed to load implementation from: com.github.fommil.netlib.NativeRefLAPACK\n"
     ]
    }
   ],
   "source": [
    "# Fit the pipeline using the training data\n",
    "# your code goes here\n",
    "\n",
    "pipelineModel = pipeline.fit(trainingData)\n"
   ]
  },
  {
   "cell_type": "markdown",
   "metadata": {},
   "source": [
    "#### Part 2 - Evaluation\n"
   ]
  },
  {
   "cell_type": "markdown",
   "metadata": {},
   "source": [
    "\n",
    "Run the code cell below.<br>\n",
    "Use the answers here to answer the final evaluation quiz in the next section.<br>\n",
    "If the code throws up any errors, go back and review the code you have written.\n"
   ]
  },
  {
   "cell_type": "code",
   "execution_count": 25,
   "metadata": {
    "tags": []
   },
   "outputs": [
    {
     "name": "stdout",
     "output_type": "stream",
     "text": [
      "Part 2 - Evaluation\n",
      "Total rows =  1499\n",
      "Pipeline Stage 1 =  VectorAssembler\n",
      "Pipeline Stage 2 =  StandardScaler\n",
      "Pipeline Stage 3 =  LinearRegression\n",
      "Label column =  SoundLevelDecibels\n"
     ]
    }
   ],
   "source": [
    "print(\"Part 2 - Evaluation\")\n",
    "print(\"Total rows = \", rowcount4)\n",
    "ps = [str(x).split(\"_\")[0] for x in pipeline.getStages()]\n",
    "\n",
    "print(\"Pipeline Stage 1 = \", ps[0])\n",
    "print(\"Pipeline Stage 2 = \", ps[1])\n",
    "print(\"Pipeline Stage 3 = \", ps[2])\n",
    "\n",
    "print(\"Label column = \", lr.getLabelCol())"
   ]
  },
  {
   "cell_type": "markdown",
   "metadata": {},
   "source": [
    "## Part 3 - Evaluate the Model\n"
   ]
  },
  {
   "cell_type": "markdown",
   "metadata": {},
   "source": [
    "### Task 1 - Predict using the model\n"
   ]
  },
  {
   "cell_type": "code",
   "execution_count": 26,
   "metadata": {
    "tags": []
   },
   "outputs": [],
   "source": [
    "# Make predictions on testing data\n",
    "# your code goes here\n",
    "\n",
    "predictions = pipelineModel.transform(testData)"
   ]
  },
  {
   "cell_type": "markdown",
   "metadata": {},
   "source": [
    "### Task 2 - Print the MSE\n"
   ]
  },
  {
   "cell_type": "code",
   "execution_count": 28,
   "metadata": {
    "tags": []
   },
   "outputs": [
    {
     "name": "stdout",
     "output_type": "stream",
     "text": [
      "30.74401898980029\n"
     ]
    }
   ],
   "source": [
    "#your code goes here\n",
    "\n",
    "\n",
    "from pyspark.ml.evaluation import RegressionEvaluator\n",
    "\n",
    "evaluator = RegressionEvaluator(predictionCol=\"prediction\", labelCol=\"SoundLevelDecibels\", metricName=\"mse\")\n",
    "mse = evaluator.evaluate(predictions)\n",
    "print(mse)"
   ]
  },
  {
   "cell_type": "markdown",
   "metadata": {},
   "source": [
    "### Task 3 - Print the MAE\n"
   ]
  },
  {
   "cell_type": "code",
   "execution_count": 30,
   "metadata": {
    "tags": []
   },
   "outputs": [
    {
     "name": "stdout",
     "output_type": "stream",
     "text": [
      "4.522530251560897\n"
     ]
    }
   ],
   "source": [
    "#your code goes here\n",
    "\n",
    "\n",
    "evaluator = RegressionEvaluator(predictionCol=\"prediction\", labelCol=\"SoundLevelDecibels\", metricName=\"mae\")\n",
    "mae = evaluator.evaluate(predictions)\n",
    "print(mae)"
   ]
  },
  {
   "cell_type": "markdown",
   "metadata": {},
   "source": [
    "### Task 4 - Print the R-Squared(R2)\n"
   ]
  },
  {
   "cell_type": "code",
   "execution_count": 32,
   "metadata": {
    "tags": []
   },
   "outputs": [
    {
     "name": "stdout",
     "output_type": "stream",
     "text": [
      "0.3457568781185436\n"
     ]
    }
   ],
   "source": [
    "#your code goes here\n",
    "\n",
    "\n",
    "evaluator = RegressionEvaluator(predictionCol=\"prediction\", labelCol=\"SoundLevelDecibels\", metricName=\"r2\")\n",
    "r2 = evaluator.evaluate(predictions)\n",
    "print(r2)"
   ]
  },
  {
   "cell_type": "markdown",
   "metadata": {},
   "source": [
    "#### Part 3 - Evaluation\n"
   ]
  },
  {
   "cell_type": "markdown",
   "metadata": {},
   "source": [
    "\n",
    "Run the code cell below.<br>\n",
    "Use the answers here to answer the final evaluation quiz in the next section.<br>\n",
    "If the code throws up any errors, go back and review the code you have written.\n"
   ]
  },
  {
   "cell_type": "code",
   "execution_count": 33,
   "metadata": {
    "tags": []
   },
   "outputs": [
    {
     "name": "stdout",
     "output_type": "stream",
     "text": [
      "Part 3 - Evaluation\n",
      "Mean Squared Error =  30.74\n",
      "Mean Absolute Error =  4.52\n",
      "R Squared =  0.35\n",
      "Intercept =  125.89\n"
     ]
    }
   ],
   "source": [
    "print(\"Part 3 - Evaluation\")\n",
    "\n",
    "print(\"Mean Squared Error = \", round(mse,2))\n",
    "print(\"Mean Absolute Error = \", round(mae,2))\n",
    "print(\"R Squared = \", round(r2,2))\n",
    "\n",
    "lrModel = pipelineModel.stages[-1]\n",
    "\n",
    "print(\"Intercept = \", round(lrModel.intercept,2))\n"
   ]
  },
  {
   "cell_type": "markdown",
   "metadata": {},
   "source": [
    "## Part 4 - Persist the Model\n"
   ]
  },
  {
   "cell_type": "markdown",
   "metadata": {},
   "source": [
    "### Task 1 - Save the model to the path \"Final_Project\"\n"
   ]
  },
  {
   "cell_type": "code",
   "execution_count": 34,
   "metadata": {
    "tags": []
   },
   "outputs": [
    {
     "name": "stdout",
     "output_type": "stream",
     "text": [
      "mkdir: cannot create directory ‘Final_Project’: File exists\n"
     ]
    },
    {
     "name": "stderr",
     "output_type": "stream",
     "text": [
      "                                                                                \r"
     ]
    }
   ],
   "source": [
    "# Save the pipeline model as \"Final_Project\"\n",
    "# your code goes here\n",
    "\n",
    "!mkdir Final_Project\n",
    "\n",
    "pipelineModel.write().overwrite().save(\"./Final_Project/\")\n"
   ]
  },
  {
   "cell_type": "markdown",
   "metadata": {},
   "source": [
    "### Task 2 - Load the model from the path \"Final_Project\"\n"
   ]
  },
  {
   "cell_type": "code",
   "execution_count": 35,
   "metadata": {
    "tags": []
   },
   "outputs": [
    {
     "name": "stderr",
     "output_type": "stream",
     "text": [
      "                                                                                \r"
     ]
    }
   ],
   "source": [
    "# Load the pipeline model you have created in the previous step\n",
    "loadedPipelineModel = PipelineModel.load(\"./Final_Project/\")"
   ]
  },
  {
   "cell_type": "markdown",
   "metadata": {},
   "source": [
    "### Task 3 - Make predictions using the loaded model on the testdata\n"
   ]
  },
  {
   "cell_type": "code",
   "execution_count": 35,
   "metadata": {
    "tags": []
   },
   "outputs": [],
   "source": [
    "# Use the loaded pipeline model and make predictions using testingData\n",
    "\n",
    "\n",
    "predictions = loadedPipelineModel.transform(testData)\n"
   ]
  },
  {
   "cell_type": "markdown",
   "metadata": {},
   "source": [
    "### Task 4 - Show the predictions\n"
   ]
  },
  {
   "cell_type": "code",
   "execution_count": 36,
   "metadata": {
    "tags": []
   },
   "outputs": [
    {
     "name": "stdout",
     "output_type": "stream",
     "text": [
      "+------------------+\n",
      "|        prediction|\n",
      "+------------------+\n",
      "| 128.4179068065773|\n",
      "|125.85436587126412|\n",
      "|126.77538534225712|\n",
      "| 128.1089849229995|\n",
      "|119.34112206090961|\n",
      "+------------------+\n",
      "only showing top 5 rows\n",
      "\n"
     ]
    }
   ],
   "source": [
    "#show top 5 rows from the predections dataframe. Display only the label column and predictions\n",
    "#your code goes here\n",
    "\n",
    "predictions = pipelineModel.transform(testData)\n",
    "predictions.select(\"prediction\").show(5)\n"
   ]
  },
  {
   "cell_type": "markdown",
   "metadata": {},
   "source": [
    "#### Part 4 - Evaluation\n"
   ]
  },
  {
   "cell_type": "markdown",
   "metadata": {},
   "source": [
    "\n",
    "Run the code cell below.<br>\n",
    "Use the answers here to answer the final evaluation quiz in the next section.<br>\n",
    "If the code throws up any errors, go back and review the code you have written.\n"
   ]
  },
  {
   "cell_type": "code",
   "execution_count": 37,
   "metadata": {
    "tags": []
   },
   "outputs": [
    {
     "name": "stdout",
     "output_type": "stream",
     "text": [
      "Part 4 - Evaluation\n",
      "Number of stages in the pipeline =  3\n",
      "Coefficient for Frequency is -3.5927\n",
      "Coefficient for AngleOfAttack is 0.4761\n",
      "Coefficient for FreeStreamVelocity is 1.3873\n",
      "Coefficient for SuctionSideDisplacement is -3.2285\n"
     ]
    }
   ],
   "source": [
    "print(\"Part 4 - Evaluation\")\n",
    "\n",
    "loadedmodel = loadedPipelineModel.stages[-1]\n",
    "totalstages = len(loadedPipelineModel.stages)\n",
    "inputcolumns = loadedPipelineModel.stages[0].getInputCols()\n",
    "\n",
    "print(\"Number of stages in the pipeline = \", totalstages)\n",
    "for i,j in zip(inputcolumns, loadedmodel.coefficients):\n",
    "    print(f\"Coefficient for {i} is {round(j,4)}\")"
   ]
  },
  {
   "cell_type": "markdown",
   "metadata": {},
   "source": [
    "### Stop Spark Session\n"
   ]
  },
  {
   "cell_type": "code",
   "execution_count": null,
   "metadata": {},
   "outputs": [],
   "source": [
    "spark.stop()"
   ]
  },
  {
   "cell_type": "markdown",
   "metadata": {},
   "source": [
    "## Authors\n"
   ]
  },
  {
   "cell_type": "markdown",
   "metadata": {},
   "source": [
    "[Ramesh Sannareddy](https://www.linkedin.com/in/rsannareddy/?utm_medium=Exinfluencer&utm_source=Exinfluencer&utm_content=000026UJ&utm_term=10006555&utm_id=NA-SkillsNetwork-Channel-SkillsNetworkCoursesIBMBD0231ENSkillsNetwork866-2023-01-01)\n"
   ]
  },
  {
   "cell_type": "markdown",
   "metadata": {},
   "source": [
    "### Other Contributors\n"
   ]
  },
  {
   "cell_type": "markdown",
   "metadata": {},
   "source": [
    "## Change Log\n"
   ]
  },
  {
   "cell_type": "markdown",
   "metadata": {},
   "source": [
    "|Date (YYYY-MM-DD)|Version|Changed By|Change Description|\n",
    "|-|-|-|-|\n",
    "|2023-05-26|0.1|Ramesh Sannareddy|Initial Version Created|\n"
   ]
  },
  {
   "cell_type": "markdown",
   "metadata": {},
   "source": [
    "Copyright © 2023 IBM Corporation. All rights reserved.\n"
   ]
  }
 ],
 "metadata": {
  "kernelspec": {
   "display_name": "Python",
   "language": "python",
   "name": "conda-env-python-py"
  },
  "language_info": {
   "codemirror_mode": {
    "name": "ipython",
    "version": 3
   },
   "file_extension": ".py",
   "mimetype": "text/x-python",
   "name": "python",
   "nbconvert_exporter": "python",
   "pygments_lexer": "ipython3",
   "version": "3.7.12"
  }
 },
 "nbformat": 4,
 "nbformat_minor": 4
}
